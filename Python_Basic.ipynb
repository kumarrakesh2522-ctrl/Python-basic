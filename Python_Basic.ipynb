{
  "nbformat": 4,
  "nbformat_minor": 0,
  "metadata": {
    "colab": {
      "provenance": []
    },
    "kernelspec": {
      "name": "python3",
      "display_name": "Python 3"
    },
    "language_info": {
      "name": "python"
    }
  },
  "cells": [
    {
      "cell_type": "markdown",
      "source": [
        "#Python Basics(Theory Question)"
      ],
      "metadata": {
        "id": "27DP9qOpLcBk"
      }
    },
    {
      "cell_type": "markdown",
      "source": [
        "1. What is Python, and why is it popular?\n",
        "   - Python is a high-level, interpreted programming language known for its clear syntax and ease of use, which makes it a great choice for both beginners and professionals. It supports multiple programming paradigms, including procedural, object-oriented, and functional programming. It Is Popular Because 1.Its Widely Used in Industry  2. A Lot of Libraries 3. Frontend, bucket ,Data Analysis 4.Automation 5.Image processing  6. DataBases.\n",
        "2. What is an interpreter in Python?\n",
        "   - an interpreter is a program that reads and executes Python code line by line, converting it into machine code or an intermediate form that can be executed by the computer.\n",
        "3.What are pre-defined keywords in Python?\n",
        "  - There Are 36 Pre-Defined Keyboards In Python.\n",
        "4.Can keywords be used as variable names?\n",
        "  - Yes Keywords be used as variable names.\n",
        "5.What is mutability in Python?\n",
        "  - Objects/Container Who state or values can be changed after they are created are called mutability.\n",
        "6.Why are lists mutable, but tuples are immutable?\n",
        "  - Because List are Intended to be dynamic Collection, Can be Changed After Creation But Tuples are used when we want to ensure the data doesnot change, Cannot Be Changed After Creation.\n",
        "7.What is the difference between “==” and “is” operators in Python?\n",
        "\n",
        "   -The Difference Between \"==\" And \"is\" Operation in python are:-\n",
        "**\"==\"Check if the values are equal, compares the content of two variables\n",
        "**\"is\" Checks if two variables point to the exact same object in memory , Compares the identity (memory address), not content.\n",
        "\n",
        "8.What are logical operators in Python?\n",
        "   - In Python, logical operators are used to combine conditional statements and return Boolean values (True or False).\n",
        "\n",
        "9.What is type casting in Python?\n",
        "   - Type casting in Python means converting a value from one data type to another.\n",
        "\n",
        "10.What is the difference between implicit and explicit type casting?\n",
        "  \n",
        "  - Implicit type casting done automatically by python,not data loss but Explicit type casting done mannually by programmer, Possible data loss if the conversion isn't compitable.\n",
        "\n",
        "11.What is the purpose of conditional statements in Python?\n",
        "\n",
        "  - The purpose of conditional statements in Python is to make decisions in your program — they allow the code to execute different actions depending on whether a condition is True or False.\n",
        "\n",
        "12.How does the elif statement work?\n",
        "    \n",
        "- Elif statement works 1) Python checks the if condition first\n",
        "    2)If the if condition is False, Python moves to the first elif and checks it 3)If all if and elif conditions are False, and there’s an else block, the else block runs.\n",
        "\n",
        "\n",
        "\n",
        "\n",
        "13.What is the difference between for and while loops?\n",
        "  \n",
        "  - In Python, for and while loops are both used for repeating code, but they differ mainly in how they control repetition these are\n",
        "       - For Loop used when you know in advance But While Loop used When you don't know in advance.\n",
        "       - For Loop iterates over each time but While loop runs as long as condition is true.\n",
        "       - For Loop Counting or iterating through items but While Loop Condition Based Looping.\n",
        "\n",
        "14.Describe a scenario where a while loop is more suitable than a for loop.\n",
        "\n",
        "   - A while loop is more suitable when you don’t know beforehand how many times you need to repeat something and the stopping point depends on a condition being met during execution.\n",
        "\n",
        "\n",
        "\n",
        "\n",
        "\n"
      ],
      "metadata": {
        "id": "8abDXb_iLhRI"
      }
    },
    {
      "cell_type": "markdown",
      "source": [
        "#Python Basic (Practical Question)"
      ],
      "metadata": {
        "id": "RroPW6fqPO_F"
      }
    },
    {
      "cell_type": "markdown",
      "source": [
        "1.Write a Python program to print \"Hello, World!\""
      ],
      "metadata": {
        "id": "SzbhSQF1P4c2"
      }
    },
    {
      "cell_type": "code",
      "source": [
        "print(\"Hello world\")"
      ],
      "metadata": {
        "colab": {
          "base_uri": "https://localhost:8080/"
        },
        "id": "zgPRxhZeP9OS",
        "outputId": "f24d9c1b-718b-40af-d821-26acc710add4"
      },
      "execution_count": null,
      "outputs": [
        {
          "output_type": "stream",
          "name": "stdout",
          "text": [
            "Hello world\n"
          ]
        }
      ]
    },
    {
      "cell_type": "markdown",
      "source": [
        "2.Write a Python program that displays your name and age."
      ],
      "metadata": {
        "id": "cMgYdB9xQGYu"
      }
    },
    {
      "cell_type": "code",
      "source": [
        "Name=(\"Rakesh\")\n",
        "Name"
      ],
      "metadata": {
        "colab": {
          "base_uri": "https://localhost:8080/",
          "height": 35
        },
        "id": "Xizb99-gQ2Mc",
        "outputId": "5c758df8-48a5-4a55-fc62-e4f23272b7b2"
      },
      "execution_count": 2,
      "outputs": [
        {
          "output_type": "execute_result",
          "data": {
            "text/plain": [
              "'Rakesh'"
            ],
            "application/vnd.google.colaboratory.intrinsic+json": {
              "type": "string"
            }
          },
          "metadata": {},
          "execution_count": 2
        }
      ]
    },
    {
      "cell_type": "code",
      "source": [
        "Age=(\"26\")\n",
        "Age"
      ],
      "metadata": {
        "colab": {
          "base_uri": "https://localhost:8080/",
          "height": 35
        },
        "id": "Il5syfW1Y3U2",
        "outputId": "c712ab3e-4069-4cca-82a8-ba159af23823"
      },
      "execution_count": 3,
      "outputs": [
        {
          "output_type": "execute_result",
          "data": {
            "text/plain": [
              "'26'"
            ],
            "application/vnd.google.colaboratory.intrinsic+json": {
              "type": "string"
            }
          },
          "metadata": {},
          "execution_count": 3
        }
      ]
    },
    {
      "cell_type": "markdown",
      "source": [
        "3.Write code to print all the pre-defined keywords in Python using the keyword library."
      ],
      "metadata": {
        "id": "9q_QPHuhXlHC"
      }
    },
    {
      "cell_type": "code",
      "source": [
        "help('keywords')"
      ],
      "metadata": {
        "colab": {
          "base_uri": "https://localhost:8080/"
        },
        "id": "1Us-YGnPavV1",
        "outputId": "40f3e65e-08bd-4383-e24e-c8fa91cf54b8"
      },
      "execution_count": null,
      "outputs": [
        {
          "output_type": "stream",
          "name": "stdout",
          "text": [
            "\n",
            "Here is a list of the Python keywords.  Enter any keyword to get more help.\n",
            "\n",
            "False               class               from                or\n",
            "None                continue            global              pass\n",
            "True                def                 if                  raise\n",
            "and                 del                 import              return\n",
            "as                  elif                in                  try\n",
            "assert              else                is                  while\n",
            "async               except              lambda              with\n",
            "await               finally             nonlocal            yield\n",
            "break               for                 not                 \n",
            "\n"
          ]
        }
      ]
    },
    {
      "cell_type": "markdown",
      "source": [
        "4.Write a program that checks if a given word is a Python keyword."
      ],
      "metadata": {
        "id": "dJyip8HMXsEZ"
      }
    },
    {
      "cell_type": "code",
      "source": [
        "help('keywords')"
      ],
      "metadata": {
        "colab": {
          "base_uri": "https://localhost:8080/"
        },
        "id": "rdXZKBgERXTj",
        "outputId": "083ce884-b171-41c2-a7f8-5d77def02438"
      },
      "execution_count": 6,
      "outputs": [
        {
          "output_type": "stream",
          "name": "stdout",
          "text": [
            "\n",
            "Here is a list of the Python keywords.  Enter any keyword to get more help.\n",
            "\n",
            "False               class               from                or\n",
            "None                continue            global              pass\n",
            "True                def                 if                  raise\n",
            "and                 del                 import              return\n",
            "as                  elif                in                  try\n",
            "assert              else                is                  while\n",
            "async               except              lambda              with\n",
            "await               finally             nonlocal            yield\n",
            "break               for                 not                 \n",
            "\n"
          ]
        }
      ]
    },
    {
      "cell_type": "code",
      "source": [
        "word=(\"class\")\n",
        "print(\"'{class}' is a Python keyword.\")\n"
      ],
      "metadata": {
        "colab": {
          "base_uri": "https://localhost:8080/"
        },
        "id": "cYeRnaY0aQ4k",
        "outputId": "7bdfa4aa-1c15-49f7-f947-2131752aa3b4"
      },
      "execution_count": 19,
      "outputs": [
        {
          "output_type": "stream",
          "name": "stdout",
          "text": [
            "'{class}' is a Python keyword.\n"
          ]
        }
      ]
    },
    {
      "cell_type": "markdown",
      "source": [
        "5.Create a list and tuple in Python, and demonstrate how attempting to change an element works differently\n",
        "for each."
      ],
      "metadata": {
        "id": "hn47oD_AXyNM"
      }
    },
    {
      "cell_type": "code",
      "source": [
        "my_list = (1, 2, 3, 4, 5)\n",
        "my_tuple =(1 ,2, 3, 4, 5)\n"
      ],
      "metadata": {
        "colab": {
          "base_uri": "https://localhost:8080/"
        },
        "id": "4NHSNItJaOPf",
        "outputId": "ae3b8964-6c76-4993-9e80-15790c5a429e"
      },
      "execution_count": 13,
      "outputs": [
        {
          "output_type": "execute_result",
          "data": {
            "text/plain": [
              "(1, 2, 3, 4, 5)"
            ]
          },
          "metadata": {},
          "execution_count": 13
        }
      ]
    },
    {
      "cell_type": "code",
      "source": [
        "my_list"
      ],
      "metadata": {
        "colab": {
          "base_uri": "https://localhost:8080/"
        },
        "id": "rASQO8dycBvI",
        "outputId": "ef45231e-e693-4c04-c40a-353f46b719ab"
      },
      "execution_count": 14,
      "outputs": [
        {
          "output_type": "execute_result",
          "data": {
            "text/plain": [
              "(1, 2, 3, 4, 5)"
            ]
          },
          "metadata": {},
          "execution_count": 14
        }
      ]
    },
    {
      "cell_type": "code",
      "source": [
        "my_tuple"
      ],
      "metadata": {
        "colab": {
          "base_uri": "https://localhost:8080/"
        },
        "id": "gBvm52BqcGuT",
        "outputId": "69cc760d-7104-4b2e-90da-499da6661156"
      },
      "execution_count": 15,
      "outputs": [
        {
          "output_type": "execute_result",
          "data": {
            "text/plain": [
              "(1, 2, 3, 4, 5)"
            ]
          },
          "metadata": {},
          "execution_count": 15
        }
      ]
    },
    {
      "cell_type": "markdown",
      "source": [
        "6.Write a function to demonstrate the behavior of mutable and immutable arguments."
      ],
      "metadata": {
        "id": "ybygbGg_X0_z"
      }
    },
    {
      "cell_type": "code",
      "source": [
        "a=5\n",
        "b=(1,2,3)\n"
      ],
      "metadata": {
        "id": "8Z46CEmQdUe0"
      },
      "execution_count": null,
      "outputs": []
    },
    {
      "cell_type": "code",
      "source": [
        "def modify_mutable(input_list):\n",
        "    input_list.append(4)\n",
        "    print(\"Inside function (mutable):\", input_list)\n",
        "\n",
        "def modify_immutable(input_tuple):\n",
        "    # This will raise an error if uncommented: input_tuple.append(4)\n",
        "    print(\"Inside function (immutable):\", input_tuple)\n",
        "\n",
        "# Demonstrate with a mutable object (list)\n",
        "my_list = [1, 2, 3]\n",
        "print(\"Before function call (mutable):\", my_list)\n",
        "modify_mutable(my_list)\n",
        "print(\"After function call (mutable):\", my_list)\n",
        "\n",
        "print(\"-\" * 20) # Separator\n",
        "\n",
        "# Demonstrate with an immutable object (tuple)\n",
        "my_tuple = (1, 2, 3)\n",
        "print(\"Before function call (immutable):\", my_tuple)\n",
        "modify_immutable(my_tuple)\n",
        "print(\"After function call (immutable):\", my_tuple)"
      ],
      "metadata": {
        "colab": {
          "base_uri": "https://localhost:8080/"
        },
        "id": "XnhvxrMXebPv",
        "outputId": "3858123b-ead1-40ed-e333-6e0500a5aee3"
      },
      "execution_count": 63,
      "outputs": [
        {
          "output_type": "stream",
          "name": "stdout",
          "text": [
            "Before function call (mutable): [1, 2, 3]\n",
            "Inside function (mutable): [1, 2, 3, 4]\n",
            "After function call (mutable): [1, 2, 3, 4]\n",
            "--------------------\n",
            "Before function call (immutable): (1, 2, 3)\n",
            "Inside function (immutable): (1, 2, 3)\n",
            "After function call (immutable): (1, 2, 3)\n"
          ]
        }
      ]
    },
    {
      "cell_type": "markdown",
      "source": [
        "7.. Write a program that performs basic arithmetic operations on two user-input numbers."
      ],
      "metadata": {
        "id": "QMjPF7dkX630"
      }
    },
    {
      "cell_type": "code",
      "source": [
        "num1 = float(\"5\")\n",
        "num2 = float(\"6\")\n",
        "\n",
        "addition = num1 + num2\n",
        "subtraction = num1 - num2\n",
        "multiplication = num1 * num2\n",
        "division = num1 / num2\n",
        "\n",
        "print(f\"{num1} + {num2} = {addition}\")\n",
        "print(f\"{num1} - {num2} = {subtraction}\")\n",
        "print(f\"{num1} * {num2} = {multiplication}\")\n",
        "print(f\"{num1} / {num2} = {division}\")"
      ],
      "metadata": {
        "colab": {
          "base_uri": "https://localhost:8080/"
        },
        "id": "iLtHH3HHoKEM",
        "outputId": "ed9c35d1-0fb4-49ae-fd06-2c28003761d4"
      },
      "execution_count": 67,
      "outputs": [
        {
          "output_type": "stream",
          "name": "stdout",
          "text": [
            "5.0 + 6.0 = 11.0\n",
            "5.0 - 6.0 = -1.0\n",
            "5.0 * 6.0 = 30.0\n",
            "5.0 / 6.0 = 0.8333333333333334\n"
          ]
        }
      ]
    },
    {
      "cell_type": "markdown",
      "source": [
        "8.Write a program to demonstrate the use of logical operators."
      ],
      "metadata": {
        "id": "xJSxdMXZX-mj"
      }
    },
    {
      "cell_type": "code",
      "source": [
        "a=True\n",
        "b=False"
      ],
      "metadata": {
        "id": "VN4obYNXnuaM"
      },
      "execution_count": null,
      "outputs": []
    },
    {
      "cell_type": "code",
      "source": [
        "a=True\n",
        "b=False\n",
        "print(\"a=\",a)\n",
        "print(\"b=\",b)"
      ],
      "metadata": {
        "colab": {
          "base_uri": "https://localhost:8080/"
        },
        "id": "sZ9k26Hsn1O3",
        "outputId": "bd585c67-b6f3-42da-d517-2185a767889f"
      },
      "execution_count": 62,
      "outputs": [
        {
          "output_type": "stream",
          "name": "stdout",
          "text": [
            "a= True\n",
            "b= False\n"
          ]
        }
      ]
    },
    {
      "cell_type": "markdown",
      "source": [
        "9.Write a Python program to convert user input from string to integer, float, and boolean types."
      ],
      "metadata": {
        "id": "3BsL-5A0YBoU"
      }
    },
    {
      "cell_type": "code",
      "source": [
        "User_input = \"6\"\n",
        "print(\"string value:\", User_input)\n",
        "\n",
        "# Convert to integer\n",
        "int_value = int(User_input)\n",
        "print(\"Integer value:\", int_value)\n",
        "\n",
        "# Convert to float\n",
        "float_value = float(User_input)\n",
        "print(\"Float value:\", float_value)\n",
        "\n",
        "# Convert to boolean (non-empty string is True)\n",
        "bool_value = bool(User_input)\n",
        "print(\"Boolean value:\", bool_value)"
      ],
      "metadata": {
        "colab": {
          "base_uri": "https://localhost:8080/"
        },
        "id": "V85Zmp93nHGA",
        "outputId": "2753f3e4-194b-4f1e-9af8-8890a5822167"
      },
      "execution_count": 60,
      "outputs": [
        {
          "output_type": "stream",
          "name": "stdout",
          "text": [
            "string value: 6\n",
            "Integer value: 6\n",
            "Float value: 6.0\n",
            "Boolean value: True\n"
          ]
        }
      ]
    },
    {
      "cell_type": "markdown",
      "source": [
        "10.Write code to demonstrate type casting with list elements."
      ],
      "metadata": {
        "id": "XCg4OmhlYE5j"
      }
    },
    {
      "cell_type": "code",
      "source": [
        "str_list = [\"10\",\"20\",\"30\",\"40\"]\n",
        "print(\"Original list(string):\",str_list)"
      ],
      "metadata": {
        "colab": {
          "base_uri": "https://localhost:8080/"
        },
        "id": "TxJ_RXxDl0D-",
        "outputId": "d406c4ef-682a-4186-c470-7c6d9d94fdd0"
      },
      "execution_count": 53,
      "outputs": [
        {
          "output_type": "stream",
          "name": "stdout",
          "text": [
            "Original list(string): ['10', '20', '30', '40']\n"
          ]
        }
      ]
    },
    {
      "cell_type": "markdown",
      "source": [
        "11.Write a program that checks if a number is positive, negative, or zero."
      ],
      "metadata": {
        "id": "DaycukQ9YKta"
      }
    },
    {
      "cell_type": "code",
      "source": [
        "num=float(\"5.5\")\n",
        "if num > 0:\n",
        "    print(\"The number is positive\")\n",
        "elif num < 0:\n",
        "    print(\"The number is negative\")\n",
        "else:\n",
        "    print(\"The number is zero\")"
      ],
      "metadata": {
        "colab": {
          "base_uri": "https://localhost:8080/"
        },
        "id": "Asby4h_plSwv",
        "outputId": "3a9f1d4a-40ed-46a7-e9af-7539092ed482"
      },
      "execution_count": 48,
      "outputs": [
        {
          "output_type": "stream",
          "name": "stdout",
          "text": [
            "The number is positive\n"
          ]
        }
      ]
    },
    {
      "cell_type": "markdown",
      "source": [
        "12.Write a for loop to print numbers from 1 to 10."
      ],
      "metadata": {
        "id": "VS7x8hoyYQk6"
      }
    },
    {
      "cell_type": "code",
      "source": [
        "for i in range(1,11):\n",
        "  print(i)"
      ],
      "metadata": {
        "colab": {
          "base_uri": "https://localhost:8080/"
        },
        "id": "4BE_v_CXjL8T",
        "outputId": "be840342-fa99-4e13-c30f-76d4b9d2a12b"
      },
      "execution_count": 38,
      "outputs": [
        {
          "output_type": "stream",
          "name": "stdout",
          "text": [
            "1\n",
            "2\n",
            "3\n",
            "4\n",
            "5\n",
            "6\n",
            "7\n",
            "8\n",
            "9\n",
            "10\n"
          ]
        }
      ]
    },
    {
      "cell_type": "markdown",
      "source": [
        "13.Write a Python program to find the sum of all even numbers between 1 and 50"
      ],
      "metadata": {
        "id": "SryUTYSbYVMZ"
      }
    },
    {
      "cell_type": "code",
      "source": [
        "total=0\n",
        "for num in range(2,51,2):total+=num\n",
        "print(\"sum of even numbers between 1 and 50 is:\",total)"
      ],
      "metadata": {
        "colab": {
          "base_uri": "https://localhost:8080/"
        },
        "id": "-p9eb_Yue30e",
        "outputId": "b55bf19a-2653-4fbe-9996-434fe4b84248"
      },
      "execution_count": 22,
      "outputs": [
        {
          "output_type": "stream",
          "name": "stdout",
          "text": [
            "sum of even numbers between 1 and 50 is: 650\n"
          ]
        }
      ]
    },
    {
      "cell_type": "markdown",
      "source": [
        "14.Write a program to reverse a string using a while loop."
      ],
      "metadata": {
        "id": "zTfsIavAYacB"
      }
    },
    {
      "cell_type": "code",
      "source": [
        "text = (\"1:\")\n",
        "reversed_text = \"\"\n",
        "index = len(text) - 1\n",
        "while index >= 0:\n",
        "    reversed_text += text[index]\n",
        "    index -= 1\n",
        "print(\"reversed string:\", reversed_text)"
      ],
      "metadata": {
        "colab": {
          "base_uri": "https://localhost:8080/"
        },
        "id": "92G_gqZ8V3QL",
        "outputId": "df5bcfbb-4770-43fe-c6ee-04423769fb2b"
      },
      "execution_count": 27,
      "outputs": [
        {
          "output_type": "stream",
          "name": "stdout",
          "text": [
            "reversed string: :1\n"
          ]
        }
      ]
    },
    {
      "cell_type": "markdown",
      "source": [
        "15.Write a Python program to calculate the factorial of a number provided by the user using a while loop."
      ],
      "metadata": {
        "id": "o1CqfTOLYfQM"
      }
    },
    {
      "cell_type": "code",
      "source": [
        "num=(\"5:\")\n",
        "factorial=1\n",
        "print(f\"Factorial of{num}is{factorial}\")"
      ],
      "metadata": {
        "colab": {
          "base_uri": "https://localhost:8080/"
        },
        "id": "uJY-EM8vVcGO",
        "outputId": "fd81288f-ae3b-42da-c728-5b926b346d5d"
      },
      "execution_count": 30,
      "outputs": [
        {
          "output_type": "stream",
          "name": "stdout",
          "text": [
            "Factorial of5:is1\n"
          ]
        }
      ]
    }
  ]
}